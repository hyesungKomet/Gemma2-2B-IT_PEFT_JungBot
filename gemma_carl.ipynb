{
 "cells": [
  {
   "cell_type": "code",
   "execution_count": null,
   "id": "943f7e96",
   "metadata": {},
   "outputs": [],
   "source": [
    "from huggingface_hub import login\n",
    "import torch\n",
    "from transformers import AutoModelForCausalLM, AutoTokenizer\n",
    "import pandas as pd\n",
    "from datasets import Dataset\n",
    "from transformers import TrainingArguments, Trainer, DataCollatorWithPadding\n",
    "from peft import LoraConfig, get_peft_model, prepare_model_for_kbit_training, PeftConfig, PeftModel"
   ]
  },
  {
   "cell_type": "code",
   "execution_count": null,
   "id": "2af46216",
   "metadata": {},
   "outputs": [],
   "source": [
    "from huggingface_hub import login\n",
    "import os\n",
    "hf_token = \"YOUR_HF_TOKEN\"\n",
    "login(token=hf_token)"
   ]
  },
  {
   "cell_type": "code",
   "execution_count": null,
   "id": "985c6895",
   "metadata": {},
   "outputs": [],
   "source": [
    "from safetensors.torch import load_file  # safetensors 라이브러리에서 load_file 임포트\n",
    "# 원래 모델 로드\n",
    "original_model_path = \"google/gemma-2-2b-it\"  # 원래 모델의 경로\n",
    "tokenizer = AutoTokenizer.from_pretrained(original_model_path)\n",
    "model = AutoModelForCausalLM.from_pretrained(\n",
    "    original_model_path,\n",
    "    device_map=\"auto\",\n",
    "    torch_dtype=torch.float16 if torch.backends.mps.is_available() else torch.float32\n",
    ")\n",
    "\n",
    "fine_tuned_tokenizer_path = \"./results/final_model\"  # 파인튜닝된 토크나이저 파일 경로\n",
    "tokenizer = AutoTokenizer.from_pretrained(fine_tuned_tokenizer_path)\n",
    "\n",
    "# 이미 파인튜닝된 가중치 로드\n",
    "final_model_weights_path = \"./results/final_model/adapter_model.safetensors\"  # 파인튜닝된 가중치 파일 경로\n",
    "weights = load_file(final_model_weights_path)  # safetensors 파일 로드\n",
    "# LoRA 가중치 적용\n",
    "peft_config_path = \"./results/final_model\"  # adapter_config.json 파일이 있는 경로\n",
    "peft_config = PeftConfig.from_pretrained(peft_config_path)\n",
    "model = PeftModel(model, peft_config)\n",
    "\n",
    "# 모델의 상태 사전에서 'lora_A.weight'와 'lora_B.weight' 경로를 'lora_A.default.weight'와 'lora_B.default.weight'로 수정\n",
    "new_weights = {}\n",
    "for key, value in weights.items():\n",
    "    if 'lora_A.weight' in key:\n",
    "        new_key = key.replace('lora_A.weight', 'lora_A.default.weight')\n",
    "    elif 'lora_B.weight' in key:\n",
    "        new_key = key.replace('lora_B.weight', 'lora_B.default.weight')\n",
    "    else:\n",
    "        new_key = key\n",
    "    new_weights[new_key] = value\n",
    "\n",
    "missing_keys, unexpected_keys = model.load_state_dict(new_weights, strict=False)\n",
    "\n",
    "# 로드된 가중치 정보 출력 (디버깅용)\n",
    "print(f\"Missing keys: {missing_keys}\")\n",
    "print(f\"Unexpected keys: {unexpected_keys}\")"
   ]
  },
  {
   "cell_type": "code",
   "execution_count": 13,
   "id": "dfed8ea7",
   "metadata": {},
   "outputs": [],
   "source": [
    "\n",
    "# 1. CSV 파일 읽어오기 (칼 융 스타일의 데이터)\n",
    "df = pd.read_csv('carl_dataset.csv')\n",
    "\n",
    "# 2. 챗봇의 답변이 비어있는 행 제거\n",
    "df = df.dropna(subset=['챗봇'])\n",
    "\n",
    "# 3. 데이터 토크나이즈하기\n",
    "def tokenize_row(row):\n",
    "    if pd.notna(row['유저']) and pd.notna(row['챗봇']):\n",
    "        inputs = tokenizer(row['유저'], padding='max_length', truncation=True, max_length=128, return_tensors=\"pt\")\n",
    "        labels = tokenizer(row['챗봇'], padding='max_length', truncation=True, max_length=128, return_tensors=\"pt\")\n",
    "        return pd.Series([inputs['input_ids'][0].tolist(), labels['input_ids'][0].tolist(), inputs['attention_mask'][0].tolist()])\n",
    "    return pd.Series([None, None, None])\n"
   ]
  },
  {
   "cell_type": "code",
   "execution_count": 29,
   "id": "6925409f",
   "metadata": {},
   "outputs": [],
   "source": [
    "# 1. CSV 파일 읽어오기 (칼 융 스타일의 데이터)\n",
    "df = pd.read_csv('carl_dataset.csv')\n",
    "\n",
    "# 2. 챗봇의 답변이 비어있는 행 제거\n",
    "df = df.dropna(subset=['챗봇'])\n",
    "\n",
    "# 3. 데이터 토크나이즈하기\n",
    "def tokenize_row(row):\n",
    "    if pd.notna(row['유저']) and pd.notna(row['챗봇']):\n",
    "        inputs = tokenizer(row['유저'], padding='max_length', truncation=True, max_length=128, return_tensors=\"pt\")\n",
    "        labels = tokenizer(row['챗봇'], padding='max_length', truncation=True, max_length=128, return_tensors=\"pt\")\n",
    "        return pd.Series([inputs['input_ids'][0].tolist(), labels['input_ids'][0].tolist(), inputs['attention_mask'][0].tolist()])\n",
    "    return pd.Series([None, None, None])\n",
    "df[['input_ids', 'labels', 'attention_mask']] = df.apply(tokenize_row, axis=1)\n",
    "\n",
    "# 4. tokenized_dataset 생성\n",
    "tokenized_dataset = df[['input_ids', 'labels', 'attention_mask']].dropna().reset_index(drop=True)\n",
    "dataset = Dataset.from_pandas(tokenized_dataset)"
   ]
  },
  {
   "cell_type": "code",
   "execution_count": 30,
   "id": "dfcd7bdd",
   "metadata": {},
   "outputs": [],
   "source": [
    "# 훈련 데이터셋과 평가 데이터셋 분리\n",
    "train_size = int(0.8 * len(dataset))\n",
    "train_dataset = dataset.select(range(train_size))\n",
    "eval_dataset = dataset.select(range(train_size, len(dataset)))"
   ]
  },
  {
   "cell_type": "code",
   "execution_count": 33,
   "id": "e6e64c47",
   "metadata": {},
   "outputs": [],
   "source": [
    "# LoRA 설정\n",
    "lora_config = LoraConfig(\n",
    "    r=16,\n",
    "    lora_alpha=32,\n",
    "    lora_dropout=0.1,\n",
    "    bias=\"none\",\n",
    ")\n",
    "# 모델을 LoRA로 준비\n",
    "tmodel = prepare_model_for_kbit_training(model)\n",
    "tmodel = get_peft_model(model, lora_config)"
   ]
  },
  {
   "cell_type": "code",
   "execution_count": null,
   "id": "5f93a5ba",
   "metadata": {},
   "outputs": [],
   "source": [
    "# 모델을 올바른 장치로 이동\n",
    "device = torch.device(\"mps\" if torch.backends.mps.is_available() else \"cpu\")\n",
    "tmodel.to(device)"
   ]
  },
  {
   "cell_type": "code",
   "execution_count": 35,
   "id": "8972a6b1",
   "metadata": {},
   "outputs": [],
   "source": [
    "# 평가 메트릭 계산 함수\n",
    "def compute_metrics(eval_pred):\n",
    "    logits, labels = eval_pred\n",
    "    predictions = torch.argmax(logits, dim=-1)\n",
    "    loss = torch.nn.functional.mse_loss(predictions.float(), labels.float())\n",
    "    return {\"eval_loss\": loss.item()}"
   ]
  },
  {
   "cell_type": "code",
   "execution_count": 47,
   "id": "c816e15b",
   "metadata": {},
   "outputs": [],
   "source": [
    "# TrainingArguments 설정\n",
    "training_args = TrainingArguments(\n",
    "    output_dir=\"./results_carl/final_model\",  # 모델 저장 경로\n",
    "    eval_strategy=\"no\",  # evaluation_strategy를 steps로 변경\n",
    "    save_strategy=\"steps\",  # save_strategy를 steps로 변경\n",
    "    #eval_steps=100,  # 500 스텝마다 평가\n",
    "    logging_strategy=\"steps\",\n",
    "    save_steps=100,  # 500 스텝마다 체크포인트 저장\n",
    "    logging_steps=10,  # 로그를 출력할 스텝 간격\n",
    "    learning_rate=2e-5,\n",
    "    per_device_train_batch_size=1,  # 배치 크기를 더 줄임\n",
    "    num_train_epochs=3,\n",
    "    weight_decay=0.01,\n",
    "    remove_unused_columns=False,  # 이 부분을 추가하여 오류 해결\n",
    "    bf16=torch.backends.mps.is_available(),  # Mixed Precision Training 활성화 (MPS에서만)\n",
    "    save_total_limit=3,  # 최대 저장할 체크포인트 수\n",
    "    #load_best_model_at_end=True,  # 훈련 종료 시 가장 좋은 모델 로드\n",
    "    #metric_for_best_model=\"eval_loss\",  # 가장 좋은 모델을 선택할 메트릭\n",
    "    #greater_is_better=False,  # 낮은 eval_loss가 더 좋음\n",
    "    gradient_accumulation_steps=8,  # Gradient Accumulation 사용\n",
    "    logging_dir='./logs',  # 로그 디렉토리 설정\n",
    ")"
   ]
  },
  {
   "cell_type": "code",
   "execution_count": null,
   "id": "4c79861b",
   "metadata": {},
   "outputs": [],
   "source": [
    "from transformers import DataCollatorWithPadding\n",
    "data_collator = DataCollatorWithPadding(tokenizer)\n",
    "from transformers import TrainerCallback\n",
    "# TrainerCallback 설정\n",
    "class LogCallback(TrainerCallback):\n",
    "    def on_log(self, args, state, control, logs=None, **kwargs):\n",
    "        if logs is not None:\n",
    "            print(f\"Step: {state.global_step}, Logs: {logs}\")\n",
    "# Trainer 설정\n",
    "trainer = Trainer(\n",
    "    model=tmodel,\n",
    "    args=training_args,\n",
    "    train_dataset=train_dataset,\n",
    "    #eval_dataset=eval_dataset,  # 평가 데이터셋 추가\n",
    "    tokenizer=tokenizer,\n",
    "    #compute_metrics=compute_metrics,  # 평가 메트릭 추가\n",
    "    data_collator=data_collator,  # 데이터 콜레이터 추가\n",
    "    callbacks=[LogCallback()]  # 콜백 추가\n",
    ")\n",
    "# 모델 훈련 시작\n",
    "checkpoint_path = \"./results_carl/\"\n",
    "\"\"\"\n",
    "if os.path.exists(checkpoint_path):\n",
    "    trainer.train(resume_from_checkpoint=checkpoint_path)  # checkpoint-500에서 재개\n",
    "else:\n",
    "    trainer.train()  # 처음부터 훈련 시작\n",
    "    \"\"\"\n",
    "trainer.train()\n",
    "# 모델 저장\n",
    "trainer.save_model(\"./results_carl/final\")"
   ]
  },
  {
   "cell_type": "code",
   "execution_count": 49,
   "id": "94554e0b",
   "metadata": {},
   "outputs": [],
   "source": [
    "def generate_response(prompt, max_length=256):\n",
    "    inputs = tokenizer(prompt, return_tensors=\"pt\", padding=True, truncation=True, max_length=max_length).to(device)\n",
    "    with torch.no_grad():\n",
    "        outputs = tmodel.generate(\n",
    "            input_ids=inputs.input_ids,\n",
    "            attention_mask=inputs.attention_mask,\n",
    "            max_length=max_length,\n",
    "            num_return_sequences=1,\n",
    "            no_repeat_ngram_size=2,\n",
    "            early_stopping=False,\n",
    "            pad_token_id=tokenizer.eos_token_id,\n",
    "            repetition_penalty=1.2,\n",
    "        )\n",
    "    response = tokenizer.decode(outputs[0], skip_special_tokens=True)\n",
    "    response = response[len(prompt):].strip()\n",
    "    response = response.replace(\"**\", \"\").strip()\n",
    "    return response"
   ]
  },
  {
   "cell_type": "code",
   "execution_count": null,
   "id": "0ed50bff",
   "metadata": {},
   "outputs": [],
   "source": [
    "# 테스트 입력에 대한 모델 출력 확인\n",
    "test_inputs = [\"화가 안 참아져.\", \"아, 내가 길 가다가 갑자기 확 쓰러지는 건 아닐까요? \"]\n",
    "for test_input in test_inputs:\n",
    "    response = generate_response(test_input, max_length=512)\n",
    "    print(f\"Input: {test_input}\")\n",
    "    print(f\"Response: {response}\")"
   ]
  },
  {
   "cell_type": "code",
   "execution_count": null,
   "id": "40456c6b",
   "metadata": {},
   "outputs": [],
   "source": [
    "while True:\n",
    "    user_input = input(\"You: \")\n",
    "    if user_input.lower() in [\"exit\", \"quit\"]:\n",
    "        break\n",
    "    response = generate_response(user_input, max_length=512)  # max_length를 늘려서 응답이 짧게 끊기지 않도록 함\n",
    "    print(f\"Bot: {response}\")"
   ]
  }
 ],
 "metadata": {
  "kernelspec": {
   "display_name": "gemma",
   "language": "python",
   "name": "python3"
  },
  "language_info": {
   "codemirror_mode": {
    "name": "ipython",
    "version": 3
   },
   "file_extension": ".py",
   "mimetype": "text/x-python",
   "name": "python",
   "nbconvert_exporter": "python",
   "pygments_lexer": "ipython3",
   "version": "3.10.14"
  }
 },
 "nbformat": 4,
 "nbformat_minor": 5
}
